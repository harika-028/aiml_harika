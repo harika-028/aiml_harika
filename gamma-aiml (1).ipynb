{
 "cells": [
  {
   "cell_type": "markdown",
   "id": "ef8ba6ee-c442-470a-9295-ab5b839335c7",
   "metadata": {},
   "source": [
    "#List"
   ]
  },
  {
   "cell_type": "code",
   "execution_count": 41,
   "id": "5f9e0d0a-57c0-41fb-99aa-274bd1aed02d",
   "metadata": {},
   "outputs": [
    {
     "name": "stdout",
     "output_type": "stream",
     "text": [
      "100\n",
      "200\n",
      "20\n"
     ]
    }
   ],
   "source": [
    "l=[100,53,200,79,20,89,1007]\n",
    "for x in l:\n",
    "    if x%2==0:\n",
    "        print(x)"
   ]
  },
  {
   "cell_type": "code",
   "execution_count": 7,
   "id": "e8dd5819-0d3a-4c57-abd9-02bd97f72a8a",
   "metadata": {},
   "outputs": [
    {
     "name": "stdout",
     "output_type": "stream",
     "text": [
      "[100, 200, 20]\n"
     ]
    }
   ],
   "source": [
    "even=[]\n",
    "l=[100,53,200,79,20,89,1007]\n",
    "for x in l:\n",
    "    if x%2==0:\n",
    "        even.append(x)\n",
    "print(even)"
   ]
  },
  {
   "cell_type": "code",
   "execution_count": 17,
   "id": "a3d2c2ea-857a-4a11-898c-1590c2f5ab4e",
   "metadata": {},
   "outputs": [
    {
     "name": "stdout",
     "output_type": "stream",
     "text": [
      "1\n",
      "3\n",
      "5\n",
      "7\n"
     ]
    }
   ],
   "source": [
    "l=[1,2,3,4,5,6,7,8]\n",
    "for x in l:\n",
    "    if x%2!=0:\n",
    "        print(x)"
   ]
  },
  {
   "cell_type": "code",
   "execution_count": 19,
   "id": "ccffdbdc-4694-4781-9b39-e869792dc40a",
   "metadata": {},
   "outputs": [
    {
     "name": "stdout",
     "output_type": "stream",
     "text": [
      "[1, 45, 99]\n"
     ]
    }
   ],
   "source": [
    "odd=[]\n",
    "l=[1,45,6,2,34,90,99]\n",
    "for x in l:\n",
    "    if x%2!=0:\n",
    "        odd.append(x)\n",
    "print(odd)"
   ]
  },
  {
   "cell_type": "code",
   "execution_count": 19,
   "id": "1f2f0798-387a-4595-a49f-52a6dd184ee4",
   "metadata": {},
   "outputs": [
    {
     "name": "stdout",
     "output_type": "stream",
     "text": [
      "[3, 4]\n",
      "[1, 2, 3, 4, 5, 6, 7, 8, 9]\n",
      "[1]\n",
      "2\n",
      "8\n"
     ]
    }
   ],
   "source": [
    "list=[1,2,3,4,5,6,7,8,9]\n",
    "print(list[2:4])\n",
    "print(list[:])\n",
    "print(list[0:1])\n",
    "print(list[1])\n",
    "print(list[-2])"
   ]
  },
  {
   "cell_type": "code",
   "execution_count": 15,
   "id": "8f98dbff-b18f-40f1-b188-2803acb35129",
   "metadata": {},
   "outputs": [
    {
     "name": "stdout",
     "output_type": "stream",
     "text": [
      "2\n",
      "345\n",
      "66\n",
      "10\n"
     ]
    }
   ],
   "source": [
    "a=[2,345,66,10]\n",
    "for x in range(len(a)):\n",
    "    print(a[x])"
   ]
  },
  {
   "cell_type": "code",
   "execution_count": 23,
   "id": "58644de9-aaf7-4472-ac33-2fb9601ce292",
   "metadata": {},
   "outputs": [
    {
     "name": "stdout",
     "output_type": "stream",
     "text": [
      "[2, 3]\n"
     ]
    }
   ],
   "source": [
    "n_l=[[1,2],[2,3]]\n",
    "print(n_l[1])"
   ]
  },
  {
   "cell_type": "code",
   "execution_count": 75,
   "id": "78eec9c2-ab4e-484b-88dd-bce9ec000ae0",
   "metadata": {},
   "outputs": [
    {
     "name": "stdout",
     "output_type": "stream",
     "text": [
      "[['apple', 1], ['mango', 2], ['guava', 3], ['cherry', 4]]\n"
     ]
    },
    {
     "data": {
      "text/plain": [
       "[['apple', 1], ['guava', 3], ['apple', 4], ['cherry', 4]]"
      ]
     },
     "execution_count": 75,
     "metadata": {},
     "output_type": "execute_result"
    }
   ],
   "source": [
    "fruits=[[\"apple\",1],[\"mango\",2],[\"guava\",3],[\"cherry\",4]]\n",
    "print(fruits)\n",
    "fruits.insert(3,[\"apple\",4])\n",
    "fruits\n",
    "fruits.remove([\"mango\",2])\n",
    "fruits"
   ]
  },
  {
   "cell_type": "code",
   "execution_count": 37,
   "id": "b01e98e8-5933-466b-87b8-41431ed3b1b5",
   "metadata": {},
   "outputs": [
    {
     "name": "stdout",
     "output_type": "stream",
     "text": [
      "[['baazigar', 10], ['ddlj', 10], ['raes', 7], ['kkhh', 9], ['devara', 20], ['kalki', 15]]\n",
      "[10, 15]\n",
      "25\n"
     ]
    }
   ],
   "source": [
    "movies=[[\"baazigar\",10],[\"ddlj\",5],[\"raes\",7],[\"kkhh\",9],[\"devara\",20]]\n",
    "movies.append([\"kalki\",15])\n",
    "for each in movies:\n",
    "    if each[0]==\"ddlj\":\n",
    "        each[1]=10\n",
    "print(movies)\n",
    "\n",
    "movies.append([\"baazigar\",15])\n",
    "total=[]\n",
    "for each_item in movies:\n",
    "    if each_item[0]==\"baazigar\":\n",
    "        total.append(each_item[1])\n",
    "print(total)\n",
    "print(sum(total))"
   ]
  },
  {
   "cell_type": "markdown",
   "id": "ce883ac6-ac6f-41a7-aaa2-aa2135242134",
   "metadata": {},
   "source": [
    "##tuple"
   ]
  },
  {
   "cell_type": "code",
   "execution_count": 55,
   "id": "dfe2764c-7648-439a-a677-948321f29875",
   "metadata": {},
   "outputs": [
    {
     "name": "stdout",
     "output_type": "stream",
     "text": [
      "(1, 2, 34, 67, 9.99, 'harika', -7j)\n",
      "<class 'tuple'>\n"
     ]
    }
   ],
   "source": [
    "a=(1,2,34,67,9.99,\"harika\",0-7j)\n",
    "print(a)\n",
    "print(type(a))"
   ]
  },
  {
   "cell_type": "code",
   "execution_count": 57,
   "id": "adc56fa2-0470-462a-87dc-5d46035ea413",
   "metadata": {},
   "outputs": [
    {
     "data": {
      "text/plain": [
       "1"
      ]
     },
     "execution_count": 57,
     "metadata": {},
     "output_type": "execute_result"
    }
   ],
   "source": [
    "tup1=(1,35,699,2005)\n",
    "tup1.count(35)"
   ]
  },
  {
   "cell_type": "markdown",
   "id": "36edb061-d975-42d8-9a32-8c6e7db385aa",
   "metadata": {},
   "source": [
    "#Dictionary"
   ]
  },
  {
   "cell_type": "code",
   "execution_count": 1,
   "id": "4ce1f046-6e57-4d0b-9e80-243bce50f1cf",
   "metadata": {},
   "outputs": [
    {
     "data": {
      "text/plain": [
       "['__class__',\n",
       " '__class_getitem__',\n",
       " '__contains__',\n",
       " '__delattr__',\n",
       " '__delitem__',\n",
       " '__dir__',\n",
       " '__doc__',\n",
       " '__eq__',\n",
       " '__format__',\n",
       " '__ge__',\n",
       " '__getattribute__',\n",
       " '__getitem__',\n",
       " '__getstate__',\n",
       " '__gt__',\n",
       " '__hash__',\n",
       " '__init__',\n",
       " '__init_subclass__',\n",
       " '__ior__',\n",
       " '__iter__',\n",
       " '__le__',\n",
       " '__len__',\n",
       " '__lt__',\n",
       " '__ne__',\n",
       " '__new__',\n",
       " '__or__',\n",
       " '__reduce__',\n",
       " '__reduce_ex__',\n",
       " '__repr__',\n",
       " '__reversed__',\n",
       " '__ror__',\n",
       " '__setattr__',\n",
       " '__setitem__',\n",
       " '__sizeof__',\n",
       " '__str__',\n",
       " '__subclasshook__',\n",
       " 'clear',\n",
       " 'copy',\n",
       " 'fromkeys',\n",
       " 'get',\n",
       " 'items',\n",
       " 'keys',\n",
       " 'pop',\n",
       " 'popitem',\n",
       " 'setdefault',\n",
       " 'update',\n",
       " 'values']"
      ]
     },
     "execution_count": 1,
     "metadata": {},
     "output_type": "execute_result"
    }
   ],
   "source": [
    "dir(dict)"
   ]
  },
  {
   "cell_type": "code",
   "execution_count": 3,
   "id": "10b8d7f6-d3c7-4f11-8ac6-58e1a99cd45f",
   "metadata": {},
   "outputs": [
    {
     "name": "stdout",
     "output_type": "stream",
     "text": [
      "{1: 'a', 2: 'b', 3: 'c', 4: 'd', 5: 'e'}\n"
     ]
    }
   ],
   "source": [
    "d1={1:\"a\", 2:\"b\", 3:\"c\", 4:\"d\", 5:\"e\"}\n",
    "print(d1)"
   ]
  },
  {
   "cell_type": "code",
   "execution_count": 30,
   "id": "aaf373c2-0f42-4b89-85c9-0b96a12fa9b2",
   "metadata": {},
   "outputs": [
    {
     "data": {
      "text/plain": [
       "{'Virat': 90,\n",
       " 'Rohit': 100,\n",
       " 'Siraj': 50,\n",
       " 'Hardik': 9,\n",
       " 'Rahul': 70,\n",
       " 'Gill': 20,\n",
       " 'Jadeja': 40,\n",
       " 'Ashwin': 15,\n",
       " 'Rahane': 45}"
      ]
     },
     "execution_count": 30,
     "metadata": {},
     "output_type": "execute_result"
    }
   ],
   "source": [
    "scores={\"Virat\":90, \"Rohit\":100, \"Siraj\":50, \"Hardik\":9, \"Rahul\":70, \"Gill\":20, \"Jadeja\":30}\n",
    "scores[\"Ashwin\"]=15\n",
    "scores.update({\"Jadeja\":40, \"Rahane\":45})\n",
    "scores"
   ]
  },
  {
   "cell_type": "code",
   "execution_count": 32,
   "id": "b5146e26-18fb-404b-b015-56e25e202d48",
   "metadata": {},
   "outputs": [
    {
     "data": {
      "text/plain": [
       "{'Virat': 90,\n",
       " 'Rohit': 100,\n",
       " 'Siraj': 50,\n",
       " 'Hardik': 9,\n",
       " 'Rahul': 70,\n",
       " 'Gill': 20,\n",
       " 'Jadeja': 40,\n",
       " 'Ashwin': 15,\n",
       " 'Rahane': 45}"
      ]
     },
     "execution_count": 32,
     "metadata": {},
     "output_type": "execute_result"
    }
   ],
   "source": [
    "scores.setdefault(\"Rahul\",68)\n",
    "scores"
   ]
  },
  {
   "cell_type": "code",
   "execution_count": 40,
   "id": "6ab1e468-c37d-4230-be88-b6c9f1c96b25",
   "metadata": {},
   "outputs": [
    {
     "data": {
      "text/plain": [
       "{'Virat': 90,\n",
       " 'Rohit': 100,\n",
       " 'Siraj': 50,\n",
       " 'Hardik': 9,\n",
       " 'Rahul': 70,\n",
       " 'Gill': 20,\n",
       " 'Jadeja': 40,\n",
       " 'Ashwin': 15,\n",
       " 'Rahane': 45,\n",
       " 'Pujara': 50}"
      ]
     },
     "execution_count": 40,
     "metadata": {},
     "output_type": "execute_result"
    }
   ],
   "source": [
    "scores.setdefault(\"Pujara\",50)\n",
    "scores"
   ]
  },
  {
   "cell_type": "code",
   "execution_count": 44,
   "id": "ef6b7f7e-1cef-4395-a9a7-e653a504ae07",
   "metadata": {},
   "outputs": [
    {
     "data": {
      "text/plain": [
       "{'Virat': 90,\n",
       " 'Rohit': 100,\n",
       " 'Siraj': 50,\n",
       " 'Hardik': 9,\n",
       " 'Rahul': 70,\n",
       " 'Gill': 20,\n",
       " 'Jadeja': 40,\n",
       " 'Ashwin': 15,\n",
       " 'Rahane': 45}"
      ]
     },
     "execution_count": 44,
     "metadata": {},
     "output_type": "execute_result"
    }
   ],
   "source": [
    "scores.popitem()\n",
    "scores"
   ]
  },
  {
   "cell_type": "code",
   "execution_count": 46,
   "id": "ceab866a-fa80-4ec8-83d9-3a44aacd5c01",
   "metadata": {},
   "outputs": [
    {
     "data": {
      "text/plain": [
       "{'Virat': 90,\n",
       " 'Rohit': 100,\n",
       " 'Siraj': 50,\n",
       " 'Hardik': 9,\n",
       " 'Rahul': 70,\n",
       " 'Jadeja': 40,\n",
       " 'Ashwin': 15,\n",
       " 'Rahane': 45}"
      ]
     },
     "execution_count": 46,
     "metadata": {},
     "output_type": "execute_result"
    }
   ],
   "source": [
    "scores.pop(\"Gill\")\n",
    "scores"
   ]
  },
  {
   "cell_type": "code",
   "execution_count": 52,
   "id": "7bce43ce-4c1d-4074-8f2c-4eaf652d4f43",
   "metadata": {},
   "outputs": [
    {
     "data": {
      "text/plain": [
       "90"
      ]
     },
     "execution_count": 52,
     "metadata": {},
     "output_type": "execute_result"
    }
   ],
   "source": [
    "scores.get(\"Virat\")"
   ]
  },
  {
   "cell_type": "code",
   "execution_count": 74,
   "id": "aa0cf8f7-7a85-4643-97c9-ace6891c60c0",
   "metadata": {},
   "outputs": [
    {
     "data": {
      "text/plain": [
       "{'Virat': 90,\n",
       " 'Rohit': 100,\n",
       " 'Siraj': 50,\n",
       " 'Hardik': 19,\n",
       " 'Rahul': 70,\n",
       " 'Jadeja': 40,\n",
       " 'Ashwin': 15,\n",
       " 'Rahane': 45}"
      ]
     },
     "execution_count": 74,
     "metadata": {},
     "output_type": "execute_result"
    }
   ],
   "source": [
    "for k in scores.keys():\n",
    "    if k==\"Hardik\":\n",
    "        scores[k]=19\n",
    "scores"
   ]
  },
  {
   "cell_type": "code",
   "execution_count": 76,
   "id": "a9895e93-5bf6-4b0a-b8f1-a9252646eba3",
   "metadata": {},
   "outputs": [
    {
     "name": "stdout",
     "output_type": "stream",
     "text": [
      "[90, 100, 50, 19, 70, 40, 15, 45]\n",
      "Total Score:  429\n"
     ]
    }
   ],
   "source": [
    "scores_list=[]\n",
    "for v in scores.values():\n",
    "    scores_list.append(v)\n",
    "print(scores_list)\n",
    "print(\"Total Score: \",sum(scores_list))"
   ]
  },
  {
   "cell_type": "code",
   "execution_count": 56,
   "id": "215da613-8300-4ffe-b187-4a1ae711aa1b",
   "metadata": {},
   "outputs": [
    {
     "data": {
      "text/plain": [
       "{'srk': 10, 'bhavitha': 10, 'harika': 10, 'rishi': 10}"
      ]
     },
     "execution_count": 56,
     "metadata": {},
     "output_type": "execute_result"
    }
   ],
   "source": [
    "l1=[\"srk\",\"bhavitha\",\"harika\",\"rishi\"]\n",
    "dict=dict.fromkeys(l1,10)\n",
    "dict"
   ]
  },
  {
   "cell_type": "markdown",
   "id": "6719eabd-a18a-444e-8712-a3b4bc989b5f",
   "metadata": {},
   "source": [
    "#Set"
   ]
  },
  {
   "cell_type": "code",
   "execution_count": 1,
   "id": "57a942fe-345c-4a55-be3d-84f2a0ec70f7",
   "metadata": {},
   "outputs": [
    {
     "name": "stdout",
     "output_type": "stream",
     "text": [
      "{1, 2, 3, 4, 5}\n",
      "<class 'set'>\n"
     ]
    }
   ],
   "source": [
    "list1=[1,2,3,4,5]\n",
    "s1=set(list1)\n",
    "print(s1)\n",
    "print(type(s1))"
   ]
  },
  {
   "cell_type": "code",
   "execution_count": 5,
   "id": "03860ce5-fe4f-48db-a293-1a4a60a0c4f7",
   "metadata": {},
   "outputs": [
    {
     "data": {
      "text/plain": [
       "['__and__',\n",
       " '__class__',\n",
       " '__class_getitem__',\n",
       " '__contains__',\n",
       " '__delattr__',\n",
       " '__dir__',\n",
       " '__doc__',\n",
       " '__eq__',\n",
       " '__format__',\n",
       " '__ge__',\n",
       " '__getattribute__',\n",
       " '__getstate__',\n",
       " '__gt__',\n",
       " '__hash__',\n",
       " '__iand__',\n",
       " '__init__',\n",
       " '__init_subclass__',\n",
       " '__ior__',\n",
       " '__isub__',\n",
       " '__iter__',\n",
       " '__ixor__',\n",
       " '__le__',\n",
       " '__len__',\n",
       " '__lt__',\n",
       " '__ne__',\n",
       " '__new__',\n",
       " '__or__',\n",
       " '__rand__',\n",
       " '__reduce__',\n",
       " '__reduce_ex__',\n",
       " '__repr__',\n",
       " '__ror__',\n",
       " '__rsub__',\n",
       " '__rxor__',\n",
       " '__setattr__',\n",
       " '__sizeof__',\n",
       " '__str__',\n",
       " '__sub__',\n",
       " '__subclasshook__',\n",
       " '__xor__',\n",
       " 'add',\n",
       " 'clear',\n",
       " 'copy',\n",
       " 'difference',\n",
       " 'difference_update',\n",
       " 'discard',\n",
       " 'intersection',\n",
       " 'intersection_update',\n",
       " 'isdisjoint',\n",
       " 'issubset',\n",
       " 'issuperset',\n",
       " 'pop',\n",
       " 'remove',\n",
       " 'symmetric_difference',\n",
       " 'symmetric_difference_update',\n",
       " 'union',\n",
       " 'update']"
      ]
     },
     "execution_count": 5,
     "metadata": {},
     "output_type": "execute_result"
    }
   ],
   "source": [
    "dir(set)"
   ]
  },
  {
   "cell_type": "code",
   "execution_count": 23,
   "id": "4cf98197-00b4-40b0-8b0b-b44e00ba93a7",
   "metadata": {},
   "outputs": [
    {
     "name": "stdout",
     "output_type": "stream",
     "text": [
      "Intersection:  {1, 3}\n",
      "Difference:  {0, 2}\n"
     ]
    },
    {
     "data": {
      "text/plain": [
       "{0, 2, 27, 247}"
      ]
     },
     "execution_count": 23,
     "metadata": {},
     "output_type": "execute_result"
    }
   ],
   "source": [
    "s1={1,2,3,0}\n",
    "s2={1,27,3,247}\n",
    "print(\"Intersection: \",s1 & s2)\n",
    "print(\"Difference: \",s1 - s2)\n",
    "s1.symmetric_difference(s2)"
   ]
  },
  {
   "cell_type": "code",
   "execution_count": 25,
   "id": "7238512d-ce21-431f-be7e-6a3f922a39b6",
   "metadata": {},
   "outputs": [
    {
     "name": "stdout",
     "output_type": "stream",
     "text": [
      "Welcome to aiml class\n",
      "We started with python\n",
      "This is an awesome class\n"
     ]
    }
   ],
   "source": [
    "str1=\"Welcome to aiml class\"\n",
    "print(str1)\n",
    "str2=\"We started with python\"\n",
    "print(str2)\n",
    "str3='''This is an awesome class'''\n",
    "print(str3)"
   ]
  },
  {
   "cell_type": "code",
   "execution_count": 33,
   "id": "ce2c27e0-39db-45d0-8896-65b589050f61",
   "metadata": {},
   "outputs": [
    {
     "data": {
      "text/plain": [
       "'this product is amazing'"
      ]
     },
     "execution_count": 33,
     "metadata": {},
     "output_type": "execute_result"
    }
   ],
   "source": [
    "reviews=[\"this product\", \"is amazing\"]\n",
    "join_string=' '.join(reviews)\n",
    "join_string"
   ]
  },
  {
   "cell_type": "code",
   "execution_count": 41,
   "id": "2b3974c0-1f48-4cb6-897f-accb537e1186",
   "metadata": {},
   "outputs": [
    {
     "data": {
      "text/plain": [
       "'Hello, how are you?'"
      ]
     },
     "execution_count": 41,
     "metadata": {},
     "output_type": "execute_result"
    }
   ],
   "source": [
    "str=\"   Hello, how are you?\"\n",
    "str.strip()"
   ]
  },
  {
   "cell_type": "code",
   "execution_count": 43,
   "id": "87564fc2-4883-422a-8381-cdea3e9f94cd",
   "metadata": {},
   "outputs": [
    {
     "data": {
      "text/plain": [
       "'   hello, how are you?'"
      ]
     },
     "execution_count": 43,
     "metadata": {},
     "output_type": "execute_result"
    }
   ],
   "source": [
    "str.lower()"
   ]
  },
  {
   "cell_type": "markdown",
   "id": "bb935ccb-01c5-4091-8886-aded71427de0",
   "metadata": {},
   "source": [
    "#Examples"
   ]
  },
  {
   "cell_type": "code",
   "execution_count": 45,
   "id": "72b51e21-029b-4569-9a88-f29b0848a9b3",
   "metadata": {},
   "outputs": [
    {
     "name": "stdout",
     "output_type": "stream",
     "text": [
      "productId {1, 2, 3, 4, 5}\n",
      "/n\n",
      "productName {'cable', 'webcam', 'desk', 'laptop', 'mouse'}\n",
      "/n\n",
      "stockAvailable {33, 67, 12, 44, 19}\n",
      "/n\n"
     ]
    }
   ],
   "source": [
    "sales_data={\n",
    "    \"productId\":[1,2,3,4,5],\n",
    "    \"productName\":[\"laptop\",\"mouse\",\"desk\",\"cable\",\"webcam\"],\n",
    "    \"stockAvailable\":[12,33,44,67,19]\n",
    "}\n",
    "for k,v in sales_data.items():\n",
    "    print(k,set(v))\n",
    "    print('/n')"
   ]
  },
  {
   "cell_type": "code",
   "execution_count": 47,
   "id": "c70653e8-bd87-4042-9102-0ab36fbc52d1",
   "metadata": {},
   "outputs": [
    {
     "name": "stdout",
     "output_type": "stream",
     "text": [
      "Harika\n",
      "Bhavitha\n",
      "Rishitha\n"
     ]
    }
   ],
   "source": [
    "d1={\"Harika\":100, \"Bhavitha\":92, \"Rishitha\":99}\n",
    "for k in d1.keys():\n",
    "    print(k)"
   ]
  },
  {
   "cell_type": "code",
   "execution_count": null,
   "id": "641e4a85-5dce-4ce4-95aa-79abd7224f57",
   "metadata": {},
   "outputs": [],
   "source": []
  }
 ],
 "metadata": {
  "kernelspec": {
   "display_name": "Python [conda env:base] *",
   "language": "python",
   "name": "conda-base-py"
  },
  "language_info": {
   "codemirror_mode": {
    "name": "ipython",
    "version": 3
   },
   "file_extension": ".py",
   "mimetype": "text/x-python",
   "name": "python",
   "nbconvert_exporter": "python",
   "pygments_lexer": "ipython3",
   "version": "3.12.7"
  }
 },
 "nbformat": 4,
 "nbformat_minor": 5
}
