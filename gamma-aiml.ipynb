{
 "cells": [
  {
   "cell_type": "markdown",
   "id": "ef8ba6ee-c442-470a-9295-ab5b839335c7",
   "metadata": {},
   "source": [
    "#List"
   ]
  },
  {
   "cell_type": "code",
   "execution_count": 41,
   "id": "5f9e0d0a-57c0-41fb-99aa-274bd1aed02d",
   "metadata": {},
   "outputs": [
    {
     "name": "stdout",
     "output_type": "stream",
     "text": [
      "100\n",
      "200\n",
      "20\n"
     ]
    }
   ],
   "source": [
    "l=[100,53,200,79,20,89,1007]\n",
    "for x in l:\n",
    "    if x%2==0:\n",
    "        print(x)"
   ]
  },
  {
   "cell_type": "code",
   "execution_count": 7,
   "id": "e8dd5819-0d3a-4c57-abd9-02bd97f72a8a",
   "metadata": {},
   "outputs": [
    {
     "name": "stdout",
     "output_type": "stream",
     "text": [
      "[100, 200, 20]\n"
     ]
    }
   ],
   "source": [
    "even=[]\n",
    "l=[100,53,200,79,20,89,1007]\n",
    "for x in l:\n",
    "    if x%2==0:\n",
    "        even.append(x)\n",
    "print(even)"
   ]
  },
  {
   "cell_type": "code",
   "execution_count": 17,
   "id": "a3d2c2ea-857a-4a11-898c-1590c2f5ab4e",
   "metadata": {},
   "outputs": [
    {
     "name": "stdout",
     "output_type": "stream",
     "text": [
      "1\n",
      "3\n",
      "5\n",
      "7\n"
     ]
    }
   ],
   "source": [
    "l=[1,2,3,4,5,6,7,8]\n",
    "for x in l:\n",
    "    if x%2!=0:\n",
    "        print(x)"
   ]
  },
  {
   "cell_type": "code",
   "execution_count": 19,
   "id": "ccffdbdc-4694-4781-9b39-e869792dc40a",
   "metadata": {},
   "outputs": [
    {
     "name": "stdout",
     "output_type": "stream",
     "text": [
      "[1, 45, 99]\n"
     ]
    }
   ],
   "source": [
    "odd=[]\n",
    "l=[1,45,6,2,34,90,99]\n",
    "for x in l:\n",
    "    if x%2!=0:\n",
    "        odd.append(x)\n",
    "print(odd)"
   ]
  },
  {
   "cell_type": "code",
   "execution_count": 19,
   "id": "1f2f0798-387a-4595-a49f-52a6dd184ee4",
   "metadata": {},
   "outputs": [
    {
     "name": "stdout",
     "output_type": "stream",
     "text": [
      "[3, 4]\n",
      "[1, 2, 3, 4, 5, 6, 7, 8, 9]\n",
      "[1]\n",
      "2\n",
      "8\n"
     ]
    }
   ],
   "source": [
    "list=[1,2,3,4,5,6,7,8,9]\n",
    "print(list[2:4])\n",
    "print(list[:])\n",
    "print(list[0:1])\n",
    "print(list[1])\n",
    "print(list[-2])"
   ]
  },
  {
   "cell_type": "code",
   "execution_count": 15,
   "id": "8f98dbff-b18f-40f1-b188-2803acb35129",
   "metadata": {},
   "outputs": [
    {
     "name": "stdout",
     "output_type": "stream",
     "text": [
      "2\n",
      "345\n",
      "66\n",
      "10\n"
     ]
    }
   ],
   "source": [
    "a=[2,345,66,10]\n",
    "for x in range(len(a)):\n",
    "    print(a[x])"
   ]
  },
  {
   "cell_type": "code",
   "execution_count": 23,
   "id": "58644de9-aaf7-4472-ac33-2fb9601ce292",
   "metadata": {},
   "outputs": [
    {
     "name": "stdout",
     "output_type": "stream",
     "text": [
      "[2, 3]\n"
     ]
    }
   ],
   "source": [
    "n_l=[[1,2],[2,3]]\n",
    "print(n_l[1])"
   ]
  },
  {
   "cell_type": "code",
   "execution_count": 75,
   "id": "78eec9c2-ab4e-484b-88dd-bce9ec000ae0",
   "metadata": {},
   "outputs": [
    {
     "name": "stdout",
     "output_type": "stream",
     "text": [
      "[['apple', 1], ['mango', 2], ['guava', 3], ['cherry', 4]]\n"
     ]
    },
    {
     "data": {
      "text/plain": [
       "[['apple', 1], ['guava', 3], ['apple', 4], ['cherry', 4]]"
      ]
     },
     "execution_count": 75,
     "metadata": {},
     "output_type": "execute_result"
    }
   ],
   "source": [
    "fruits=[[\"apple\",1],[\"mango\",2],[\"guava\",3],[\"cherry\",4]]\n",
    "print(fruits)\n",
    "fruits.insert(3,[\"apple\",4])\n",
    "fruits\n",
    "fruits.remove([\"mango\",2])\n",
    "fruits"
   ]
  },
  {
   "cell_type": "code",
   "execution_count": 37,
   "id": "b01e98e8-5933-466b-87b8-41431ed3b1b5",
   "metadata": {},
   "outputs": [
    {
     "name": "stdout",
     "output_type": "stream",
     "text": [
      "[['baazigar', 10], ['ddlj', 10], ['raes', 7], ['kkhh', 9], ['devara', 20], ['kalki', 15]]\n",
      "[10, 15]\n",
      "25\n"
     ]
    }
   ],
   "source": [
    "movies=[[\"baazigar\",10],[\"ddlj\",5],[\"raes\",7],[\"kkhh\",9],[\"devara\",20]]\n",
    "movies.append([\"kalki\",15])\n",
    "for each in movies:\n",
    "    if each[0]==\"ddlj\":\n",
    "        each[1]=10\n",
    "print(movies)\n",
    "\n",
    "movies.append([\"baazigar\",15])\n",
    "total=[]\n",
    "for each_item in movies:\n",
    "    if each_item[0]==\"baazigar\":\n",
    "        total.append(each_item[1])\n",
    "print(total)\n",
    "print(sum(total))"
   ]
  },
  {
   "cell_type": "markdown",
   "id": "ce883ac6-ac6f-41a7-aaa2-aa2135242134",
   "metadata": {},
   "source": [
    "##tuple"
   ]
  },
  {
   "cell_type": "code",
   "execution_count": 55,
   "id": "dfe2764c-7648-439a-a677-948321f29875",
   "metadata": {},
   "outputs": [
    {
     "name": "stdout",
     "output_type": "stream",
     "text": [
      "(1, 2, 34, 67, 9.99, 'harika', -7j)\n",
      "<class 'tuple'>\n"
     ]
    }
   ],
   "source": [
    "a=(1,2,34,67,9.99,\"harika\",0-7j)\n",
    "print(a)\n",
    "print(type(a))"
   ]
  },
  {
   "cell_type": "code",
   "execution_count": 57,
   "id": "adc56fa2-0470-462a-87dc-5d46035ea413",
   "metadata": {},
   "outputs": [
    {
     "data": {
      "text/plain": [
       "1"
      ]
     },
     "execution_count": 57,
     "metadata": {},
     "output_type": "execute_result"
    }
   ],
   "source": [
    "tup1=(1,35,699,2005)\n",
    "tup1.count(35)"
   ]
  },
  {
   "cell_type": "markdown",
   "id": "36edb061-d975-42d8-9a32-8c6e7db385aa",
   "metadata": {},
   "source": [
    "#Dictionary"
   ]
  },
  {
   "cell_type": "code",
   "execution_count": 1,
   "id": "4ce1f046-6e57-4d0b-9e80-243bce50f1cf",
   "metadata": {},
   "outputs": [
    {
     "data": {
      "text/plain": [
       "['__class__',\n",
       " '__class_getitem__',\n",
       " '__contains__',\n",
       " '__delattr__',\n",
       " '__delitem__',\n",
       " '__dir__',\n",
       " '__doc__',\n",
       " '__eq__',\n",
       " '__format__',\n",
       " '__ge__',\n",
       " '__getattribute__',\n",
       " '__getitem__',\n",
       " '__getstate__',\n",
       " '__gt__',\n",
       " '__hash__',\n",
       " '__init__',\n",
       " '__init_subclass__',\n",
       " '__ior__',\n",
       " '__iter__',\n",
       " '__le__',\n",
       " '__len__',\n",
       " '__lt__',\n",
       " '__ne__',\n",
       " '__new__',\n",
       " '__or__',\n",
       " '__reduce__',\n",
       " '__reduce_ex__',\n",
       " '__repr__',\n",
       " '__reversed__',\n",
       " '__ror__',\n",
       " '__setattr__',\n",
       " '__setitem__',\n",
       " '__sizeof__',\n",
       " '__str__',\n",
       " '__subclasshook__',\n",
       " 'clear',\n",
       " 'copy',\n",
       " 'fromkeys',\n",
       " 'get',\n",
       " 'items',\n",
       " 'keys',\n",
       " 'pop',\n",
       " 'popitem',\n",
       " 'setdefault',\n",
       " 'update',\n",
       " 'values']"
      ]
     },
     "execution_count": 1,
     "metadata": {},
     "output_type": "execute_result"
    }
   ],
   "source": [
    "dir(dict)"
   ]
  },
  {
   "cell_type": "code",
   "execution_count": 3,
   "id": "10b8d7f6-d3c7-4f11-8ac6-58e1a99cd45f",
   "metadata": {},
   "outputs": [
    {
     "name": "stdout",
     "output_type": "stream",
     "text": [
      "{1: 'a', 2: 'b', 3: 'c', 4: 'd', 5: 'e'}\n"
     ]
    }
   ],
   "source": [
    "d1={1:\"a\", 2:\"b\", 3:\"c\", 4:\"d\", 5:\"e\"}\n",
    "print(d1)"
   ]
  },
  {
   "cell_type": "code",
   "execution_count": 30,
   "id": "aaf373c2-0f42-4b89-85c9-0b96a12fa9b2",
   "metadata": {},
   "outputs": [
    {
     "data": {
      "text/plain": [
       "{'Virat': 90,\n",
       " 'Rohit': 100,\n",
       " 'Siraj': 50,\n",
       " 'Hardik': 9,\n",
       " 'Rahul': 70,\n",
       " 'Gill': 20,\n",
       " 'Jadeja': 40,\n",
       " 'Ashwin': 15,\n",
       " 'Rahane': 45}"
      ]
     },
     "execution_count": 30,
     "metadata": {},
     "output_type": "execute_result"
    }
   ],
   "source": [
    "scores={\"Virat\":90, \"Rohit\":100, \"Siraj\":50, \"Hardik\":9, \"Rahul\":70, \"Gill\":20, \"Jadeja\":30}\n",
    "scores[\"Ashwin\"]=15\n",
    "scores.update({\"Jadeja\":40, \"Rahane\":45})\n",
    "scores"
   ]
  },
  {
   "cell_type": "code",
   "execution_count": 32,
   "id": "b5146e26-18fb-404b-b015-56e25e202d48",
   "metadata": {},
   "outputs": [
    {
     "data": {
      "text/plain": [
       "{'Virat': 90,\n",
       " 'Rohit': 100,\n",
       " 'Siraj': 50,\n",
       " 'Hardik': 9,\n",
       " 'Rahul': 70,\n",
       " 'Gill': 20,\n",
       " 'Jadeja': 40,\n",
       " 'Ashwin': 15,\n",
       " 'Rahane': 45}"
      ]
     },
     "execution_count": 32,
     "metadata": {},
     "output_type": "execute_result"
    }
   ],
   "source": [
    "scores.setdefault(\"Rahul\",68)\n",
    "scores"
   ]
  },
  {
   "cell_type": "code",
   "execution_count": 40,
   "id": "6ab1e468-c37d-4230-be88-b6c9f1c96b25",
   "metadata": {},
   "outputs": [
    {
     "data": {
      "text/plain": [
       "{'Virat': 90,\n",
       " 'Rohit': 100,\n",
       " 'Siraj': 50,\n",
       " 'Hardik': 9,\n",
       " 'Rahul': 70,\n",
       " 'Gill': 20,\n",
       " 'Jadeja': 40,\n",
       " 'Ashwin': 15,\n",
       " 'Rahane': 45,\n",
       " 'Pujara': 50}"
      ]
     },
     "execution_count": 40,
     "metadata": {},
     "output_type": "execute_result"
    }
   ],
   "source": [
    "scores.setdefault(\"Pujara\",50)\n",
    "scores"
   ]
  },
  {
   "cell_type": "code",
   "execution_count": 44,
   "id": "ef6b7f7e-1cef-4395-a9a7-e653a504ae07",
   "metadata": {},
   "outputs": [
    {
     "data": {
      "text/plain": [
       "{'Virat': 90,\n",
       " 'Rohit': 100,\n",
       " 'Siraj': 50,\n",
       " 'Hardik': 9,\n",
       " 'Rahul': 70,\n",
       " 'Gill': 20,\n",
       " 'Jadeja': 40,\n",
       " 'Ashwin': 15,\n",
       " 'Rahane': 45}"
      ]
     },
     "execution_count": 44,
     "metadata": {},
     "output_type": "execute_result"
    }
   ],
   "source": [
    "scores.popitem()\n",
    "scores"
   ]
  },
  {
   "cell_type": "code",
   "execution_count": 46,
   "id": "ceab866a-fa80-4ec8-83d9-3a44aacd5c01",
   "metadata": {},
   "outputs": [
    {
     "data": {
      "text/plain": [
       "{'Virat': 90,\n",
       " 'Rohit': 100,\n",
       " 'Siraj': 50,\n",
       " 'Hardik': 9,\n",
       " 'Rahul': 70,\n",
       " 'Jadeja': 40,\n",
       " 'Ashwin': 15,\n",
       " 'Rahane': 45}"
      ]
     },
     "execution_count": 46,
     "metadata": {},
     "output_type": "execute_result"
    }
   ],
   "source": [
    "scores.pop(\"Gill\")\n",
    "scores"
   ]
  },
  {
   "cell_type": "code",
   "execution_count": 52,
   "id": "7bce43ce-4c1d-4074-8f2c-4eaf652d4f43",
   "metadata": {},
   "outputs": [
    {
     "data": {
      "text/plain": [
       "90"
      ]
     },
     "execution_count": 52,
     "metadata": {},
     "output_type": "execute_result"
    }
   ],
   "source": [
    "scores.get(\"Virat\")"
   ]
  },
  {
   "cell_type": "code",
   "execution_count": 74,
   "id": "aa0cf8f7-7a85-4643-97c9-ace6891c60c0",
   "metadata": {},
   "outputs": [
    {
     "data": {
      "text/plain": [
       "{'Virat': 90,\n",
       " 'Rohit': 100,\n",
       " 'Siraj': 50,\n",
       " 'Hardik': 19,\n",
       " 'Rahul': 70,\n",
       " 'Jadeja': 40,\n",
       " 'Ashwin': 15,\n",
       " 'Rahane': 45}"
      ]
     },
     "execution_count": 74,
     "metadata": {},
     "output_type": "execute_result"
    }
   ],
   "source": [
    "for k in scores.keys():\n",
    "    if k==\"Hardik\":\n",
    "        scores[k]=19\n",
    "scores"
   ]
  },
  {
   "cell_type": "code",
   "execution_count": 76,
   "id": "a9895e93-5bf6-4b0a-b8f1-a9252646eba3",
   "metadata": {},
   "outputs": [
    {
     "name": "stdout",
     "output_type": "stream",
     "text": [
      "[90, 100, 50, 19, 70, 40, 15, 45]\n",
      "Total Score:  429\n"
     ]
    }
   ],
   "source": [
    "scores_list=[]\n",
    "for v in scores.values():\n",
    "    scores_list.append(v)\n",
    "print(scores_list)\n",
    "print(\"Total Score: \",sum(scores_list))"
   ]
  },
  {
   "cell_type": "code",
   "execution_count": 56,
   "id": "215da613-8300-4ffe-b187-4a1ae711aa1b",
   "metadata": {},
   "outputs": [
    {
     "data": {
      "text/plain": [
       "{'srk': 10, 'bhavitha': 10, 'harika': 10, 'rishi': 10}"
      ]
     },
     "execution_count": 56,
     "metadata": {},
     "output_type": "execute_result"
    }
   ],
   "source": [
    "l1=[\"srk\",\"bhavitha\",\"harika\",\"rishi\"]\n",
    "dict=dict.fromkeys(l1,10)\n",
    "dict"
   ]
  },
  {
   "cell_type": "code",
   "execution_count": 72,
   "id": "2277bb04-407e-47c5-9792-9c4c1334ca7a",
   "metadata": {},
   "outputs": [
    {
     "ename": "ValueError",
     "evalue": "dictionary update sequence element #0 has length 1; 2 is required",
     "output_type": "error",
     "traceback": [
      "\u001b[1;31m---------------------------------------------------------------------------\u001b[0m",
      "\u001b[1;31mValueError\u001b[0m                                Traceback (most recent call last)",
      "Cell \u001b[1;32mIn[72], line 1\u001b[0m\n\u001b[1;32m----> 1\u001b[0m \u001b[38;5;28mdict\u001b[39m\u001b[38;5;241m.\u001b[39mupdate(\u001b[38;5;124m\"\u001b[39m\u001b[38;5;124msrk\u001b[39m\u001b[38;5;124m\"\u001b[39m)\u001b[38;5;241m==\u001b[39m\u001b[38;5;241m10\u001b[39m\n\u001b[0;32m      2\u001b[0m \u001b[38;5;28mdict\u001b[39m\n",
      "\u001b[1;31mValueError\u001b[0m: dictionary update sequence element #0 has length 1; 2 is required"
     ]
    }
   ],
   "source": []
  },
  {
   "cell_type": "code",
   "execution_count": null,
   "id": "57a942fe-345c-4a55-be3d-84f2a0ec70f7",
   "metadata": {},
   "outputs": [],
   "source": []
  }
 ],
 "metadata": {
  "kernelspec": {
   "display_name": "Python [conda env:base] *",
   "language": "python",
   "name": "conda-base-py"
  },
  "language_info": {
   "codemirror_mode": {
    "name": "ipython",
    "version": 3
   },
   "file_extension": ".py",
   "mimetype": "text/x-python",
   "name": "python",
   "nbconvert_exporter": "python",
   "pygments_lexer": "ipython3",
   "version": "3.12.7"
  }
 },
 "nbformat": 4,
 "nbformat_minor": 5
}
